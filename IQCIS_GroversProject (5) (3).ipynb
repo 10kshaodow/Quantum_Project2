{
 "cells": [
  {
   "cell_type": "markdown",
   "id": "dff1eed9-246f-454d-b988-1af85503e83d",
   "metadata": {
    "tags": []
   },
   "source": [
    "# IQCIS Project 1: Grover's Algorithm\n",
    "## Due April 5th, 2025"
   ]
  },
  {
   "cell_type": "markdown",
   "id": "854c3763-b9d6-491c-8d1d-bec69889fdbb",
   "metadata": {},
   "source": [
    "<Double-click and type your name here!>"
   ]
  },
  {
   "cell_type": "markdown",
   "id": "1ed5aa04-f8b7-45af-b8b9-6a0689f765ca",
   "metadata": {},
   "source": [
    "In this project, we will introduce Grover's algorithm and how it is used to solve database search problems. We'll implement the algorithm together using Qiskit for one case, and then challenge you to implement the algorithm for other cases and prove the result.\n",
    "\n",
    "## Contents\n",
    "\n",
    "1. [Introduction](#introduction)\n",
    "2. [Getting Started](#getstarted)\n",
    "3. [Example: 2-Qubit Grover Search](#2qubits)\n",
    "4. [Deliverables](#deliverables)\n",
    "5. [Resources](#resources)"
   ]
  },
  {
   "cell_type": "markdown",
   "id": "d1e28708-b3fc-43f3-9f13-6f81c26e4a67",
   "metadata": {
    "editable": true,
    "slideshow": {
     "slide_type": ""
    },
    "tags": []
   },
   "source": [
    "## 1. Introduction <a id='introduction'></a>\n",
    "\n",
    "Grover search is one way that a quantum computer provides a computational advantage over classical computers. Say we want to look through a long list with $N$ items total. We're looking for some particular item, but the list isn't sorted and we don't know where that item is. Classically, when searching for this value in a databse, we must look through **half** of the elements in the database on average and, in the worst case, what we want is at the very end and we must look through **everything**! Through a clever algorithm, Grover search provides *quadratic* speedup compared to classical search: for a database with $N$ elements, instead of taking $N$ steps to find the item, we must only perform roughly $\\sqrt{N}$ quantum operations. \n",
    "\n",
    "It's recommended that you use the resources listed in [Section 5](#resources). In particular, you need to learn about Grover's algorithm using [this Qiskit tutorial (link)](https://qiskit.org/textbook/ch-algorithms/grover.html)."
   ]
  },
  {
   "cell_type": "markdown",
   "id": "6ec6f5be-c5d5-4cbc-a4cd-5a385f9a423e",
   "metadata": {},
   "source": [
    "## 2. Getting Started <a id='getstarted'></a>\n",
    "\n",
    "This project assumes that you can write and run Qiskit code. The easiest way to do this is to use qBraid Lab, a website that offers a way to run jupyter notebooks with a Qiskit environment. This website has all the development tools needed for this project, so all you need to do is create an account. Another option is to install the Qiskit tools on your machine, see section [Section 5](#resources). The project will assume you are using the first option.\n",
    "\n",
    "To import a notebook into qBraid Lab, click on the 'Files' tab on the left, then click on the upload symbol (looks like an up arrow) that is near the top of the Files panel. Then select your .ipynb file. You should also make sure to download (to the server, not your machine) the Qiskit library by going to the 'ENVS' tab on the right side of the screen, click the '+ ADD' button, search for 'Qiskit', and download the latest version possible. You may have to switch kernels to the one you just downloaded. To do this, click on the Python version near the top right of the notebook window and change it to a Python version with Qiskit listed ('Python 3.11 [Qiskit 1.3.2]' for example).\n",
    "\n",
    "To start, make sure you double-click and modify the second cell of this notebook to add your name. You can use *Ctrl+Enter* to finish editing a text cell and close it. All of the cells in this notebook can be edited, but you only need to run and add the code you're told to.\n",
    "\n",
    "First, run the below code to set up the environment by importing the basic Qiskit library functions and visualizations. You can run the cell by clicking on it and clicking the **Play** button at the top of the window, or by clicking on it and pressing **Shift+Enter**. You'll see the kernel become busy in the status line at the bottom of the window. Any errors or output wil be displayed below the cell (we shouldn't have any here). "
   ]
  },
  {
   "cell_type": "code",
   "execution_count": null,
   "id": "b9ec148b-a20c-412a-b013-f206b5c99ad5",
   "metadata": {
    "tags": []
   },
   "outputs": [],
   "source": [
    "import matplotlib.pyplot as plt\n",
    "import numpy as np\n",
    "\n",
    "# import Qiskit functions and compilers\n",
    "from qiskit import transpile\n",
    "from qiskit import QuantumCircuit, ClassicalRegister, QuantumRegister\n",
    "from qiskit_aer import AerSimulator\n",
    "\n",
    "# import basic plot and visualization tools\n",
    "from qiskit.visualization import *"
   ]
  },
  {
   "cell_type": "markdown",
   "id": "a43ab849-f9e4-4af2-9e09-608548792fd5",
   "metadata": {
    "editable": true,
    "slideshow": {
     "slide_type": ""
    },
    "tags": []
   },
   "source": [
    "## 3. Example: 2-Qubit Grover Search <a id='2qubits'></a>\n",
    "\n",
    "In this section, we'll step through code that will perform a 2-qubit grover search for the state $|11\\rangle$. This code is already written and you'll just need to run each code block in order. Later, you'll need to develop the search operation for each of the other 2-qubit states: $|00\\rangle$, $|01\\rangle$, and $|10\\rangle$. Feel free to copy and edit the relevant blocks when it comes time to develop your search for the other states."
   ]
  },
  {
   "attachments": {
    "d30f6e8f-0351-4a31-b5de-2737329f6940.png": {
     "image/png": "[encoded data removed]"
    }
   },
   "cell_type": "markdown",
   "id": "1a7871dd-9e30-4bdf-943d-a77b4b536abe",
   "metadata": {},
   "source": [
    "The Grover search algorithm relies on the application of the **Controlled-Z Gate** (or CZ gate for short) for its oracle and diffusion operators. This gate flips the phase of the target qubit if the control qubit is in the $|1\\rangle$ state. When applied to the state corresponding to the desired search item, this gate performs the *phase inversion* step of Grover's algorithm. The matrix representation of a CZ gate is:\n",
    "\n",
    "\\begin{equation}\n",
    "        CZ\\ q_0, q_1 =\n",
    "            I \\otimes |0\\rangle\\langle 0| + Z \\otimes |1\\rangle\\langle 1| =\n",
    "            \\begin{pmatrix}\n",
    "                1 & 0 & 0 & 0 \\\\\n",
    "                0 & 1 & 0 & 0 \\\\\n",
    "                0 & 0 & 1 & 0 \\\\\n",
    "                0 & 0 & 0 & -1\n",
    "            \\end{pmatrix}\n",
    "\\end{equation}\n",
    "\n",
    "Qiskit has a `CZGate()` class which may be applied to a `QuantumCircuit` using the `cz()` method. The gate may be decomposed in Qiskit into more basic gates like this:\n",
    "\n",
    "![image.png](attachment:d30f6e8f-0351-4a31-b5de-2737329f6940.png)\n",
    "\n",
    "Below is the code to implement a basic CZ gate on two qubits, the control and the target. Note how this corresponds exactly to the gates in the image above!"
   ]
  },
  {
   "cell_type": "code",
   "execution_count": null,
   "id": "634f3ec2-d2f2-424a-84a0-d739e9f91af8",
   "metadata": {
    "tags": []
   },
   "outputs": [],
   "source": [
    "def controlled_Z(circuit, control, target):\n",
    "    \"\"\" Implement a Z gate with a single control. \"\"\"\n",
    "    circuit.h(target)\n",
    "    circuit.cx(control, target)\n",
    "    circuit.h(target)"
   ]
  },
  {
   "cell_type": "markdown",
   "id": "07d9f965-8fac-4554-bd2a-b1280799b0eb",
   "metadata": {},
   "source": [
    "The next code cell will contain the **phase oracle** for targeting the $|11\\rangle$ state. When we want to target this state, the oracle is just a CZ gate. The oracle looks like this:"
   ]
  },
  {
   "cell_type": "code",
   "execution_count": null,
   "id": "f02bc527-839a-4e41-8d60-c5ee1775b564",
   "metadata": {
    "tags": []
   },
   "outputs": [],
   "source": [
    "def phase_oracle(circuit, register):\n",
    "    # Call function that implements the CZ gate on a 2-qubit register.\n",
    "    # Equivalently, we could call the built in function on our QuantumRegister: \n",
    "    # circuit.cz(register[0], register[1])\n",
    "    controlled_Z(circuit, register[0], register[1])"
   ]
  },
  {
   "cell_type": "markdown",
   "id": "f9a21069-8d5c-41e5-9a76-e90fa574b181",
   "metadata": {},
   "source": [
    "In the next cell, we'll implement the Grover diffusion operator. The comments explain each step of the operation."
   ]
  },
  {
   "cell_type": "code",
   "execution_count": null,
   "id": "e513b79e-e4c4-4e7b-bbe9-c1a59cfd42b1",
   "metadata": {
    "tags": []
   },
   "outputs": [],
   "source": [
    "def grover_diffusion(circuit, register):\n",
    "    # Apply Hadamard and X gates on all qubits\n",
    "    circuit.h(register)\n",
    "    circuit.x(register)\n",
    "    \n",
    "    # Create a barrier that isolates different sections of the circuit\n",
    "    circuit.barrier()\n",
    "    \n",
    "    # Apply CZ gate with target as qubit 1\n",
    "    controlled_Z(circuit, register[0], register[1])\n",
    "    \n",
    "    circuit.barrier()\n",
    "    \n",
    "    circuit.x(register)\n",
    "    circuit.h(register)"
   ]
  },
  {
   "cell_type": "markdown",
   "id": "e36f897d-b2d5-474e-88e6-81e8d71dbd34",
   "metadata": {},
   "source": [
    "Next, we'll create the Grover Search quantum circuit targeting state $|11\\rangle$ and draw it using the Qiskit tools. When you run this cell, you should see the circuit drawing appear below the cell. The value `tests` may be changed to run Grover's algorithm multiple times on the register."
   ]
  },
  {
   "cell_type": "code",
   "execution_count": null,
   "id": "819c6809-643f-49a1-ad7d-497f975e24b6",
   "metadata": {
    "tags": []
   },
   "outputs": [],
   "source": [
    "# Define circuit constants\n",
    "qubits = 2\n",
    "tests = 1\n",
    "\n",
    "# Instantiate register objects\n",
    "qr = QuantumRegister(qubits)\n",
    "cr = ClassicalRegister(qubits)\n",
    "groverCircuit = QuantumCircuit(qr, cr)\n",
    "\n",
    "# Initialize circuit with Hadamard gates\n",
    "groverCircuit.h(qr)\n",
    "\n",
    "# Run phase oracle and diffusion operators. \n",
    "# Can be run multiple times depending on the value \"tests\".\n",
    "for test in range(0,tests):\n",
    "    groverCircuit.barrier()\n",
    "    phase_oracle(groverCircuit, qr)\n",
    "    groverCircuit.barrier()\n",
    "    grover_diffusion(groverCircuit, qr)\n",
    "    \n",
    "# Measure quantum registers\n",
    "groverCircuit.barrier()\n",
    "groverCircuit.measure(qr,cr)\n",
    "\n",
    "# Draw Circuit\n",
    "groverCircuit.draw()"
   ]
  },
  {
   "cell_type": "markdown",
   "id": "c9b97d74-4e61-4e67-9b1e-761cdebc97c1",
   "metadata": {},
   "source": [
    "Finally, we'll actually run the quantum algorithm multiple times and find the probability with which we observe each state. This final probability is based on the measurements we make at the end of each experiment. The number of runs can be configured using the value `shots`."
   ]
  },
  {
   "cell_type": "code",
   "execution_count": null,
   "id": "e7d7b9d7-82f3-4aa7-aa2d-0d019e2453b5",
   "metadata": {
    "tags": []
   },
   "outputs": [],
   "source": [
    "# Define backend that will simulate the circuit, and transpile the circuit for the Aer backend\n",
    "# backend = Aer.get_backend('aer_simulator')\n",
    "backend = AerSimulator()\n",
    "qobj = transpile(groverCircuit, backend)\n",
    "\n",
    "# Number of times the circuit is run\n",
    "shots = 1024\n",
    "\n",
    "# Execute circuit and plot results on histogram\n",
    "result = backend.run(qobj, shots=shots).result()\n",
    "answer = result.get_counts()\n",
    "plot_histogram(answer)"
   ]
  },
  {
   "cell_type": "markdown",
   "id": "fe72ed35-2c31-485e-b7c2-e80ef67c4def",
   "metadata": {},
   "source": [
    "The histogram should only show the $|11\\rangle$ state, with a total of 1024 measurements. Next, you'll use this code and the resources in [Section 5](#resources) to develop oracles for the remaining states."
   ]
  },
  {
   "cell_type": "markdown",
   "id": "8a8eeaff-a5d8-477f-99eb-9ffd943d0d53",
   "metadata": {
    "tags": []
   },
   "source": [
    "## 4. Deliverables <a id='deliverables'></a>\n",
    "\n",
    "1. Prove, using linear algebra, the equivalence between the decomposed CZ gate and the matrix representation of the gate. This may be done using sympy in this notebook (just add a section following this one), or it may be done on paper/electronically and submitted as a separate PDF.\n",
    "2. In the following sections, develop oracles that target the $|00\\rangle$, $|01\\rangle$, and $|10\\rangle$ states. You may add multiple code cells to each section, or copy the Section 3 code into a single cell for each state and just change the oracle definition. Copy over all the circuit and simulation code. Ensure that you run the code to show **both** a circuit diagram **and** a result histogram from your experiments.\n",
    "3. Prove that your oracles for the other states implement phase inversion for the desired output. **Hint:** In each case you should end up with a 4x4 matrix that looks like the one shown above for the $|11\\rangle$ oracle."
   ]
  },
  {
   "cell_type": "markdown",
   "id": "9c1e89cd-8f7f-40b4-a880-f178c0599995",
   "metadata": {},
   "source": [
    "### 4.1 $|00\\rangle$ Oracle"
   ]
  },
  {
   "cell_type": "code",
   "execution_count": null,
   "id": "577ef05b-2503-4dc8-b91b-b2d3480f8b7c",
   "metadata": {
    "tags": []
   },
   "outputs": [],
   "source": [
    "# Add your code here for the |00> oracle"
   ]
  },
  {
   "cell_type": "markdown",
   "id": "82caa0bc-1f61-40d0-abd3-f1bfb958c9c2",
   "metadata": {},
   "source": [
    "### 4.2 $|01\\rangle$ Oracle"
   ]
  },
  {
   "cell_type": "code",
   "execution_count": null,
   "id": "a32f7493",
   "metadata": {
    "tags": []
   },
   "outputs": [],
   "source": [
    "# Add your code here for the |01> oracle"
   ]
  },
  {
   "cell_type": "markdown",
   "id": "82182d85-41a9-46a7-a8f8-baf59ca5d56e",
   "metadata": {},
   "source": [
    "### 4.3 $|10\\rangle$ Oracle"
   ]
  },
  {
   "cell_type": "code",
   "execution_count": null,
   "id": "fec6b647",
   "metadata": {
    "tags": []
   },
   "outputs": [],
   "source": [
    "# Add your code here for the |10> oracle"
   ]
  },
  {
   "cell_type": "markdown",
   "id": "2b91466e-f3fd-4036-aeb6-ef04f863bb23",
   "metadata": {
    "tags": []
   },
   "source": [
    "## 5. Resources <a id='resources'></a>\n",
    "\n",
    "- **IBM Quantum Composer**: https://quantum-computing.ibm.com/composer\n",
    "- **qBraid**: https://www.qbraid.com/\n",
    "- **Installing Qiskit**: https://qiskit.org/documentation/install.html\n",
    "- **Grover Search Explanation**: https://github.com/Qiskit/textbook/blob/main/notebooks/ch-algorithms/grover.ipynb\n",
    "- **Getting Started With Qiskit**: https://qiskit.org/documentation/tutorials/circuits/1_getting_started_with_qiskit.html\n",
    "- **Your TA**: Feel free to send me an email with any questions you may have! I also can meet through zoom if needed. ltr6274@rit.edu"
   ]
  }
 ],
 "metadata": {
  "kernelspec": {
   "display_name": "Python 3 [Default]",
   "language": "python",
   "name": "python3"
  },
  "language_info": {
   "codemirror_mode": {
    "name": "ipython",
    "version": 3
   },
   "file_extension": ".py",
   "mimetype": "text/x-python",
   "name": "python",
   "nbconvert_exporter": "python",
   "pygments_lexer": "ipython3",
   "version": "3.11.9"
  },
  "widgets": {
   "application/vnd.jupyter.widget-state+json": {
    "state": {},
    "version_major": 2,
    "version_minor": 0
   }
  }
 },
 "nbformat": 4,
 "nbformat_minor": 5
}
