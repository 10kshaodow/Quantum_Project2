{
  "nbformat": 4,
  "nbformat_minor": 0,
  "metadata": {
    "colab": {
      "provenance": []
    },
    "kernelspec": {
      "name": "python3",
      "display_name": "Python 3"
    },
    "language_info": {
      "name": "python"
    }
  },
  "cells": [
    {
      "cell_type": "code",
      "execution_count": 8,
      "metadata": {
        "colab": {
          "base_uri": "https://localhost:8080/"
        },
        "id": "1qGIVPzEsLRP",
        "outputId": "f3996fbc-73d7-4c45-a9f2-e6c319a2eae6"
      },
      "outputs": [
        {
          "output_type": "stream",
          "name": "stdout",
          "text": [
            "Decomposed CZ gate:\n",
            "⎡1  0  0  0 ⎤\n",
            "⎢           ⎥\n",
            "⎢0  1  0  0 ⎥\n",
            "⎢           ⎥\n",
            "⎢0  0  1  0 ⎥\n",
            "⎢           ⎥\n",
            "⎣0  0  0  -1⎦\n",
            "\n",
            "Actual CZ gate:\n",
            "⎡1  0  0  0 ⎤\n",
            "⎢           ⎥\n",
            "⎢0  1  0  0 ⎥\n",
            "⎢           ⎥\n",
            "⎢0  0  1  0 ⎥\n",
            "⎢           ⎥\n",
            "⎣0  0  0  -1⎦\n",
            "The Decomposed CZ Gate is Equivalent to the Matrix Representation\n"
          ]
        }
      ],
      "source": [
        "import sympy as sp\n",
        "from sympy.physics.quantum import TensorProduct\n",
        "\n",
        "H = (1/sp.sqrt(2)) * sp.Matrix([[1, 1], [1, -1]])\n",
        "I = sp.eye(2) #sympy defintion of the Identity Matrix that is 2x2\n",
        "\n",
        "I_H = TensorProduct(I, H)\n",
        "\n",
        "CNOT = sp.Matrix([ # CNOT gate with control qubit 0 & target qubit 1\n",
        "    [1, 0, 0, 0],\n",
        "    [0, 1, 0, 0],\n",
        "    [0, 0, 0, 1],\n",
        "    [0, 0, 1, 0]\n",
        "])\n",
        "\n",
        "CZ_decomposed = I_H * CNOT * I_H\n",
        "\n",
        "CZ_Matrix_Rep = sp.Matrix([\n",
        "    [1, 0, 0,  0],\n",
        "    [0, 1, 0,  0],\n",
        "    [0, 0, 1,  0],\n",
        "    [0, 0, 0, -1]\n",
        "])\n",
        "\n",
        "print(\"Decomposed CZ gate:\")\n",
        "sp.pprint(CZ_decomposed)\n",
        "\n",
        "print(\"\\nActual CZ gate:\")\n",
        "sp.pprint(CZ_Matrix_Rep)\n",
        "\n",
        "print(\"The Decomposed CZ Gate is Equivalent to the Matrix Representation\")"
      ]
    }
  ]
}